{
 "cells": [
  {
   "cell_type": "markdown",
   "id": "b3abb11f",
   "metadata": {},
   "source": [
    "Dagster tutorial\n",
    "https://docs.dagster.io/tutorial"
   ]
  },
  {
   "cell_type": "code",
   "execution_count": null,
   "id": "cddd38e2",
   "metadata": {},
   "outputs": [],
   "source": [
    "import requests\n",
    "import csv\n",
    "from dagster import pipeline, solid, execute_pipeline"
   ]
  },
  {
   "cell_type": "markdown",
   "id": "71a69de5",
   "metadata": {},
   "source": [
    "\"Solid\" is dagster term for a single computational task in a pipeline. Preferred syntax is via the `@solid` function decorator.\n",
    "\n",
    "Example just returns lines on a CSV file downloaded on the fly. `context` argument is provided by dagster when workflow executes; used here for logging."
   ]
  },
  {
   "cell_type": "code",
   "execution_count": null,
   "id": "5d3b16f0",
   "metadata": {},
   "outputs": [],
   "source": [
    "@solid\n",
    "def hello_cereal(context):\n",
    "    response = requests.get(\"https://docs.dagster.io/assets/cereal.csv\")\n",
    "    lines = response.text.split(\"\\n\")\n",
    "    cereals = [row for row in csv.DictReader(lines)]\n",
    "    context.log.info(f\"Found {len(cereals)} cereals\")\n",
    "\n",
    "    return cereals"
   ]
  },
  {
   "cell_type": "markdown",
   "id": "bce6b583",
   "metadata": {},
   "source": [
    "Likewise *pipeline*s are functions decorated with `@pipeline`.\n",
    "\n",
    "Pipelines specify dependency DAG of solids; recall solids refer to jobs, not data (inputs/outputs).\n",
    "Can execute sets of solids without running an entire pipeline (recovery). \n",
    "\n",
    "*IOManager*s are used to write output of a solid to persistent storage; encapsulates I/O & separated from pipeline logic."
   ]
  },
  {
   "cell_type": "code",
   "execution_count": null,
   "id": "af1d10a6",
   "metadata": {},
   "outputs": [],
   "source": [
    "@pipeline\n",
    "def hello_cereal_pipeline():\n",
    "    hello_cereal()"
   ]
  },
  {
   "cell_type": "markdown",
   "id": "6258fdfe",
   "metadata": {},
   "source": [
    "Run it:"
   ]
  },
  {
   "cell_type": "code",
   "execution_count": null,
   "id": "2aea1b11",
   "metadata": {},
   "outputs": [],
   "source": [
    "result = execute_pipeline(hello_cereal_pipeline)"
   ]
  },
  {
   "cell_type": "code",
   "execution_count": null,
   "id": "9240f327",
   "metadata": {},
   "outputs": [],
   "source": [
    "print(result)"
   ]
  },
  {
   "cell_type": "markdown",
   "id": "ae58057f",
   "metadata": {},
   "source": [
    "Now connect two solids. First one doesn't do logging, so we don't need `context`. \n",
    "\n",
    "Pipeline just through function composition; apparently don't need to pass `context` explicitly (always assumed first arg?)"
   ]
  },
  {
   "cell_type": "markdown",
   "id": "ebf2b1f6",
   "metadata": {},
   "source": [
    "Diamond-pattern pipeline. Is dagster generating the actual DAG from the AST of the deocrated pipeline function? That'd be cool."
   ]
  },
  {
   "cell_type": "code",
   "execution_count": null,
   "id": "93c15a4c",
   "metadata": {},
   "outputs": [],
   "source": [
    "@solid\n",
    "def download_cereals():\n",
    "    response = requests.get(\"https://docs.dagster.io/assets/cereal.csv\")\n",
    "    lines = response.text.split(\"\\n\")\n",
    "    return [row for row in csv.DictReader(lines)]\n",
    "\n",
    "@solid\n",
    "def find_highest_calorie_cereal(cereals):\n",
    "    sorted_cereals = list(\n",
    "        sorted(cereals, key=lambda cereal: cereal[\"calories\"])\n",
    "    )\n",
    "    return sorted_cereals[-1][\"name\"]\n",
    "\n",
    "@solid\n",
    "def find_highest_protein_cereal(cereals):\n",
    "    sorted_cereals = list(\n",
    "        sorted(cereals, key=lambda cereal: cereal[\"protein\"])\n",
    "    )\n",
    "    return sorted_cereals[-1][\"name\"]\n",
    "\n",
    "@solid\n",
    "def display_results(context, most_calories, most_protein):\n",
    "    context.log.info(f\"Most caloric cereal: {most_calories}\")\n",
    "    context.log.info(f\"Most protein-rich cereal: {most_protein}\")\n",
    "\n",
    "@pipeline\n",
    "def complex_pipeline():\n",
    "    cereals = download_cereals()\n",
    "    display_results(\n",
    "        most_calories=find_highest_calorie_cereal(cereals),\n",
    "        most_protein=find_highest_protein_cereal(cereals),\n",
    "    )"
   ]
  },
  {
   "cell_type": "code",
   "execution_count": null,
   "id": "fc8b07c7",
   "metadata": {},
   "outputs": [],
   "source": [
    "result = execute_pipeline(complex_pipeline)"
   ]
  },
  {
   "cell_type": "code",
   "execution_count": null,
   "id": "5e6ca059",
   "metadata": {},
   "outputs": [],
   "source": [
    "result"
   ]
  },
  {
   "cell_type": "markdown",
   "id": "84ba29b4",
   "metadata": {},
   "source": [
    "Run-time configuration for each solid is passed through context. (Keyed by solid name -- what if we want to call a solid multiple times?) Support for validation schemas.\n",
    "\n",
    "Following specifies `url` from config."
   ]
  },
  {
   "cell_type": "code",
   "execution_count": null,
   "id": "7b24a9f2",
   "metadata": {},
   "outputs": [],
   "source": [
    "@solid(config_schema={\"url\": str})\n",
    "def download_csv(context):\n",
    "    response = requests.get(context.solid_config[\"url\"])\n",
    "    lines = response.text.split(\"\\n\")\n",
    "    return [row for row in csv.DictReader(lines)]\n",
    "\n",
    "@solid\n",
    "def sort_by_calories(context, cereals):\n",
    "    sorted_cereals = sorted(\n",
    "        cereals, key=lambda cereal: int(cereal[\"calories\"])\n",
    "    )\n",
    "    context.log.info(f'Most caloric cereal: {sorted_cereals[-1][\"name\"]}')\n",
    "\n",
    "@pipeline\n",
    "def configurable_pipeline():\n",
    "    sort_by_calories(download_csv())"
   ]
  },
  {
   "cell_type": "markdown",
   "id": "37f9207e",
   "metadata": {},
   "source": [
    "Config provided at runtime potentially through multiple methods:"
   ]
  },
  {
   "cell_type": "code",
   "execution_count": null,
   "id": "999a4e75",
   "metadata": {},
   "outputs": [],
   "source": [
    "run_config = {\n",
    "    \"solids\": {\n",
    "        \"download_csv\": {\n",
    "            \"config\": {\"url\": \"https://docs.dagster.io/assets/cereal.csv\"}\n",
    "        }\n",
    "    }\n",
    "}\n",
    "result = execute_pipeline(configurable_pipeline, run_config=run_config)"
   ]
  },
  {
   "cell_type": "code",
   "execution_count": null,
   "id": "4f536ce2",
   "metadata": {},
   "outputs": [],
   "source": [
    "import dataclasses as dc\n",
    "import textwrap\n",
    "import requests\n",
    "import csv\n",
    "\n",
    "import dagster as dg\n",
    "import dagster_shell\n",
    "\n",
    "@dc.dataclass\n",
    "class ConfigClass():\n",
    "    url: str\n",
    "    sort_field: str\n",
    "\n",
    "@dg.solid(\n",
    "    output_defs=[dg.OutputDefinition(name=\"config_dc\", dagster_type=ConfigClass)]\n",
    ")\n",
    "def parse_context(context):\n",
    "    return ConfigClass(\n",
    "        url=context.solid_config[\"url\"],\n",
    "        sort_field=context.solid_config[\"sort_field\"]\n",
    "    )\n",
    "    \n",
    "@dg.solid(\n",
    "    input_defs=[dg.InputDefinition(name=\"config_dc\", dagster_type=ConfigClass)],\n",
    "    output_defs=[dg.OutputDefinition(name=\"cereals\", dagster_type=dg.List)]\n",
    ")\n",
    "def download_csv(config_dc):\n",
    "    response = requests.get(config_dc.url)\n",
    "    lines = response.text.split(\"\\n\")\n",
    "    return [row for row in csv.DictReader(lines)]\n",
    "\n",
    "@dg.solid(\n",
    "    input_defs=[\n",
    "        dg.InputDefinition(name=\"config_dc\", dagster_type=ConfigClass),\n",
    "        dg.InputDefinition(name=\"cereals\", dagster_type=dg.List)\n",
    "    ],\n",
    "    output_defs=[dg.OutputDefinition(name=\"cereal_name\", dagster_type=dg.String)],\n",
    ")\n",
    "def sort_by_calories(config_dc, cereals):\n",
    "    sorted_cereals = sorted(\n",
    "        cereals, key=lambda cereal: int(cereal[config_dc.sort_field])\n",
    "    )\n",
    "    return sorted_cereals[-1][\"name\"]\n",
    "\n",
    "@dg.solid\n",
    "def assemble_command(cereal_name: str):\n",
    "    return textwrap.dedent(f\"\"\"\n",
    "        echo \"{cereal_name} is a cool thing.\"\n",
    "    \"\"\")\n",
    "@dg.composite_solid(\n",
    "    input_defs=[dg.InputDefinition(name=\"cereal_name\", dagster_type=dg.String)]\n",
    "    # output_defs=[dg.OutputDefinition(str, \"result\")]\n",
    ")\n",
    "def template_shell(cereal_name):\n",
    "    shell_command = assemble_command(cereal_name)\n",
    "    result = dagster_shell.shell_solid(shell_command)\n",
    "\n",
    "@dg.pipeline\n",
    "def test_pipes():\n",
    "    config_dc = parse_context()\n",
    "    template_shell(sort_by_calories(config_dc, download_csv(config_dc)))\n",
    "    \n",
    "run_config = {\n",
    "    \"solids\": {\n",
    "        \"parse_context\": {\n",
    "            \"config\": {\n",
    "                \"url\": \"https://docs.dagster.io/assets/cereal.csv\",\n",
    "                \"sort_field\": \"calories\"\n",
    "            }\n",
    "        }\n",
    "    }\n",
    "}\n",
    "result = dg.execute_pipeline(test_pipes, run_config=run_config)"
   ]
  },
  {
   "cell_type": "code",
   "execution_count": null,
   "id": "1e41059a",
   "metadata": {},
   "outputs": [],
   "source": [
    "@dg.solid(config_schema={\"n\": int})\n",
    "def add_n(context, number: int):\n",
    "    return number + context.solid_config[\"n\"]\n",
    "\n",
    "\n",
    "@dg.solid(config_schema={\"m\": int})\n",
    "def multiply_by_m(context, number: int):\n",
    "    return number * context.solid_config[\"m\"]\n",
    "\n",
    "\n",
    "@dg.composite_solid(input_defs=[dg.InputDefinition(\"number\", int)])\n",
    "def add_n_times_m_solid(number):\n",
    "    return multiply_by_m(add_n(number))\n",
    "\n",
    "def config_mapping_fn(config):\n",
    "    x = config[\"x\"]\n",
    "    return {\"add_n\": {\"config\": {\"n\": x}}, \"multiply_by_m\": {\"config\": {\"m\": x}}}\n",
    "\n",
    "\n",
    "@composite_solid(\n",
    "    config_fn=config_mapping_fn,\n",
    "    config_schema={\"x\": int},\n",
    "    input_defs=[InputDefinition(\"number\", int)],\n",
    ")\n",
    "def add_x_multiply_by_x(number):\n",
    "    return multiply_by_m(add_n(number))\n",
    "\n",
    "\n",
    "@pipeline\n",
    "def my_pipeline_config_mapping():\n",
    "    add_x_multiply_by_x(return_one())"
   ]
  },
  {
   "cell_type": "code",
   "execution_count": null,
   "id": "1ddf112e",
   "metadata": {},
   "outputs": [],
   "source": [
    "def decorator_factory_1(arg=1):\n",
    "    def decorator(function):\n",
    "        def wrapper(*args, **kwargs):\n",
    "            return function(*args, **kwargs) + arg\n",
    "        return wrapper\n",
    "    return decorator\n",
    "\n",
    "def decorator_factory_2(foo=1):\n",
    "    def decorator(function):\n",
    "        return decorator_factory_1(arg=foo)(function)\n",
    "    return decorator\n",
    "\n",
    "@decorator_factory_1(arg=60)\n",
    "def g(x):\n",
    "    return x+5\n",
    "\n",
    "@decorator_factory_2(foo=60)\n",
    "def h(x):\n",
    "    return x+5\n",
    "\n",
    "print(g(1))\n",
    "print(h(1))"
   ]
  },
  {
   "cell_type": "markdown",
   "id": "98356b0b",
   "metadata": {},
   "source": [
    "# NB: can't nest dynamic maps!"
   ]
  },
  {
   "cell_type": "markdown",
   "id": "8af7c038-b004-4d54-bb6e-236eb44c032c",
   "metadata": {},
   "source": [
    "https://github.com/dagster-io/dagster/issues/4359 circa July\n",
    "https://github.com/dagster-io/dagster/issues/4364\n",
    "\n",
    "Other limitation: the map()ed function can only take one argument (dynamicOutput; may be a tuple, but that's hacky)"
   ]
  },
  {
   "cell_type": "markdown",
   "id": "9e229c58-4bbc-4fe4-8781-df53b2aa2f4d",
   "metadata": {},
   "source": [
    "Single-stage map/collect (works):"
   ]
  },
  {
   "cell_type": "code",
   "execution_count": 1,
   "id": "76686f86-c547-4d92-88cb-1aeabb969aa3",
   "metadata": {},
   "outputs": [],
   "source": [
    "import dagster as dg\n",
    "\n",
    "@dg.solid(output_defs=[dg.DynamicOutputDefinition(name=\"i\", dagster_type=int)])\n",
    "def fanout_1(context):\n",
    "    for i in [0, 10]:\n",
    "        yield dg.DynamicOutput(i, mapping_key=f\"a{i}\", output_name=\"i\")\n",
    "\n",
    "@dg.solid(\n",
    "    input_defs=[dg.InputDefinition(name=\"i\", dagster_type=int)],\n",
    "    output_defs=[dg.OutputDefinition(name=\"result\", dagster_type=int)]\n",
    ")\n",
    "def do_stuff_1(context, i):\n",
    "    context.log.info(f\"test: {i} {context.get_mapping_key()}\")\n",
    "    return i+1\n",
    "\n",
    "@dg.solid\n",
    "def fan_in(context, sizes):\n",
    "    return sum(sizes)\n",
    "\n",
    "@dg.pipeline\n",
    "def pipe_1():\n",
    "    temp1 = fanout_1().map(do_stuff_1)\n",
    "    fan_in(temp1.collect())"
   ]
  },
  {
   "cell_type": "code",
   "execution_count": 2,
   "id": "6692c915-d1fe-46d4-b25d-0552faf77151",
   "metadata": {
    "collapsed": true,
    "jupyter": {
     "outputs_hidden": true
    },
    "tags": []
   },
   "outputs": [
    {
     "name": "stderr",
     "output_type": "stream",
     "text": [
      "2021-08-26 17:47:30 - dagster - DEBUG - pipe_1 - 872fae19-ec6b-4362-a8bf-8117ce111da7 - 49703 - PIPELINE_START - Started execution of pipeline \"pipe_1\".\n",
      "2021-08-26 17:47:30 - dagster - DEBUG - pipe_1 - 872fae19-ec6b-4362-a8bf-8117ce111da7 - 49703 - ENGINE_EVENT - Executing steps in process (pid: 49703)\n",
      "2021-08-26 17:47:30 - dagster - DEBUG - pipe_1 - 872fae19-ec6b-4362-a8bf-8117ce111da7 - 49703 - ENGINE_EVENT - Starting initialization of resources [io_manager].\n",
      "2021-08-26 17:47:30 - dagster - DEBUG - pipe_1 - 872fae19-ec6b-4362-a8bf-8117ce111da7 - 49703 - ENGINE_EVENT - Finished initialization of resources [io_manager].\n",
      "2021-08-26 17:47:30 - dagster - DEBUG - pipe_1 - 872fae19-ec6b-4362-a8bf-8117ce111da7 - 49703 - fanout_1 - LOGS_CAPTURED - Started capturing logs for solid: fanout_1.\n",
      "2021-08-26 17:47:30 - dagster - DEBUG - pipe_1 - 872fae19-ec6b-4362-a8bf-8117ce111da7 - 49703 - fanout_1 - STEP_START - Started execution of step \"fanout_1\".\n",
      "2021-08-26 17:47:30 - dagster - DEBUG - pipe_1 - 872fae19-ec6b-4362-a8bf-8117ce111da7 - 49703 - fanout_1 - STEP_OUTPUT - Yielded output \"i\" mapping key \"a0\" of type \"Int\". (Type check passed).\n",
      "2021-08-26 17:47:30 - dagster - DEBUG - pipe_1 - 872fae19-ec6b-4362-a8bf-8117ce111da7 - 49703 - fanout_1 - HANDLED_OUTPUT - Handled output \"i\" using IO manager \"io_manager\"\n",
      "2021-08-26 17:47:30 - dagster - DEBUG - pipe_1 - 872fae19-ec6b-4362-a8bf-8117ce111da7 - 49703 - fanout_1 - STEP_OUTPUT - Yielded output \"i\" mapping key \"a10\" of type \"Int\". (Type check passed).\n",
      "2021-08-26 17:47:30 - dagster - DEBUG - pipe_1 - 872fae19-ec6b-4362-a8bf-8117ce111da7 - 49703 - fanout_1 - HANDLED_OUTPUT - Handled output \"i\" using IO manager \"io_manager\"\n",
      "2021-08-26 17:47:30 - dagster - DEBUG - pipe_1 - 872fae19-ec6b-4362-a8bf-8117ce111da7 - 49703 - fanout_1 - STEP_SUCCESS - Finished execution of step \"fanout_1\" in 4.89ms.\n",
      "2021-08-26 17:47:30 - dagster - DEBUG - pipe_1 - 872fae19-ec6b-4362-a8bf-8117ce111da7 - 49703 - do_stuff_1[a0] - LOGS_CAPTURED - Started capturing logs for solid: do_stuff_1[a0].\n",
      "2021-08-26 17:47:30 - dagster - DEBUG - pipe_1 - 872fae19-ec6b-4362-a8bf-8117ce111da7 - 49703 - do_stuff_1[a0] - STEP_START - Started execution of step \"do_stuff_1[a0]\".\n",
      "2021-08-26 17:47:30 - dagster - DEBUG - pipe_1 - 872fae19-ec6b-4362-a8bf-8117ce111da7 - 49703 - do_stuff_1[a0] - LOADED_INPUT - Loaded input \"i\" using input manager \"io_manager\", from output \"i\" of step \"fanout_1\"\n",
      "2021-08-26 17:47:30 - dagster - DEBUG - pipe_1 - 872fae19-ec6b-4362-a8bf-8117ce111da7 - 49703 - do_stuff_1[a0] - STEP_INPUT - Got input \"i\" of type \"Int\". (Type check passed).\n",
      "2021-08-26 17:47:30 - dagster - INFO - pipe_1 - 872fae19-ec6b-4362-a8bf-8117ce111da7 - do_stuff_1[a0] - test: 0 a0\n",
      "2021-08-26 17:47:30 - dagster - DEBUG - pipe_1 - 872fae19-ec6b-4362-a8bf-8117ce111da7 - 49703 - do_stuff_1[a0] - STEP_OUTPUT - Yielded output \"result\" of type \"Int\". (Type check passed).\n",
      "2021-08-26 17:47:30 - dagster - DEBUG - pipe_1 - 872fae19-ec6b-4362-a8bf-8117ce111da7 - 49703 - do_stuff_1[a0] - HANDLED_OUTPUT - Handled output \"result\" using IO manager \"io_manager\"\n",
      "2021-08-26 17:47:30 - dagster - DEBUG - pipe_1 - 872fae19-ec6b-4362-a8bf-8117ce111da7 - 49703 - do_stuff_1[a0] - STEP_SUCCESS - Finished execution of step \"do_stuff_1[a0]\" in 2.64ms.\n",
      "2021-08-26 17:47:30 - dagster - DEBUG - pipe_1 - 872fae19-ec6b-4362-a8bf-8117ce111da7 - 49703 - do_stuff_1[a10] - LOGS_CAPTURED - Started capturing logs for solid: do_stuff_1[a10].\n",
      "2021-08-26 17:47:30 - dagster - DEBUG - pipe_1 - 872fae19-ec6b-4362-a8bf-8117ce111da7 - 49703 - do_stuff_1[a10] - STEP_START - Started execution of step \"do_stuff_1[a10]\".\n",
      "2021-08-26 17:47:30 - dagster - DEBUG - pipe_1 - 872fae19-ec6b-4362-a8bf-8117ce111da7 - 49703 - do_stuff_1[a10] - LOADED_INPUT - Loaded input \"i\" using input manager \"io_manager\", from output \"i\" of step \"fanout_1\"\n",
      "2021-08-26 17:47:30 - dagster - DEBUG - pipe_1 - 872fae19-ec6b-4362-a8bf-8117ce111da7 - 49703 - do_stuff_1[a10] - STEP_INPUT - Got input \"i\" of type \"Int\". (Type check passed).\n",
      "2021-08-26 17:47:30 - dagster - INFO - pipe_1 - 872fae19-ec6b-4362-a8bf-8117ce111da7 - do_stuff_1[a10] - test: 10 a10\n",
      "2021-08-26 17:47:30 - dagster - DEBUG - pipe_1 - 872fae19-ec6b-4362-a8bf-8117ce111da7 - 49703 - do_stuff_1[a10] - STEP_OUTPUT - Yielded output \"result\" of type \"Int\". (Type check passed).\n",
      "2021-08-26 17:47:30 - dagster - DEBUG - pipe_1 - 872fae19-ec6b-4362-a8bf-8117ce111da7 - 49703 - do_stuff_1[a10] - HANDLED_OUTPUT - Handled output \"result\" using IO manager \"io_manager\"\n",
      "2021-08-26 17:47:30 - dagster - DEBUG - pipe_1 - 872fae19-ec6b-4362-a8bf-8117ce111da7 - 49703 - do_stuff_1[a10] - STEP_SUCCESS - Finished execution of step \"do_stuff_1[a10]\" in 2.66ms.\n",
      "2021-08-26 17:47:30 - dagster - DEBUG - pipe_1 - 872fae19-ec6b-4362-a8bf-8117ce111da7 - 49703 - fan_in - LOGS_CAPTURED - Started capturing logs for solid: fan_in.\n",
      "2021-08-26 17:47:30 - dagster - DEBUG - pipe_1 - 872fae19-ec6b-4362-a8bf-8117ce111da7 - 49703 - fan_in - STEP_START - Started execution of step \"fan_in\".\n",
      "2021-08-26 17:47:30 - dagster - DEBUG - pipe_1 - 872fae19-ec6b-4362-a8bf-8117ce111da7 - 49703 - fan_in - LOADED_INPUT - Loaded input \"sizes\" using input manager \"io_manager\", from output \"result\" of step \"do_stuff_1[a0]\"\n",
      "2021-08-26 17:47:30 - dagster - DEBUG - pipe_1 - 872fae19-ec6b-4362-a8bf-8117ce111da7 - 49703 - fan_in - LOADED_INPUT - Loaded input \"sizes\" using input manager \"io_manager\", from output \"result\" of step \"do_stuff_1[a10]\"\n",
      "2021-08-26 17:47:30 - dagster - DEBUG - pipe_1 - 872fae19-ec6b-4362-a8bf-8117ce111da7 - 49703 - fan_in - STEP_INPUT - Got input \"sizes\" of type \"Any\". (Type check passed).\n",
      "2021-08-26 17:47:30 - dagster - DEBUG - pipe_1 - 872fae19-ec6b-4362-a8bf-8117ce111da7 - 49703 - fan_in - STEP_OUTPUT - Yielded output \"result\" of type \"Any\". (Type check passed).\n",
      "2021-08-26 17:47:30 - dagster - DEBUG - pipe_1 - 872fae19-ec6b-4362-a8bf-8117ce111da7 - 49703 - fan_in - HANDLED_OUTPUT - Handled output \"result\" using IO manager \"io_manager\"\n",
      "2021-08-26 17:47:30 - dagster - DEBUG - pipe_1 - 872fae19-ec6b-4362-a8bf-8117ce111da7 - 49703 - fan_in - STEP_SUCCESS - Finished execution of step \"fan_in\" in 2.2ms.\n",
      "2021-08-26 17:47:30 - dagster - DEBUG - pipe_1 - 872fae19-ec6b-4362-a8bf-8117ce111da7 - 49703 - ENGINE_EVENT - Finished steps in process (pid: 49703) in 38ms\n",
      "2021-08-26 17:47:30 - dagster - DEBUG - pipe_1 - 872fae19-ec6b-4362-a8bf-8117ce111da7 - 49703 - PIPELINE_SUCCESS - Finished execution of pipeline \"pipe_1\".\n"
     ]
    }
   ],
   "source": [
    "result = dg.execute_pipeline(pipe_1)"
   ]
  },
  {
   "cell_type": "markdown",
   "id": "15cc4804-874d-476d-a6af-a672248f2a6e",
   "metadata": {},
   "source": [
    "Try two stages. No good."
   ]
  },
  {
   "cell_type": "code",
   "execution_count": 4,
   "id": "b484e308",
   "metadata": {},
   "outputs": [
    {
     "ename": "DagsterInvariantViolationError",
     "evalue": "Attempted to iterate over an InvokedSolidDynamicOutputWrapper. This object represents the dynamic output \"result\" from the solid \"do_stuff_1\". Use the \"map\" method on this object to create downstream dependencies that will be cloned for each DynamicOutput that is resolved at runtime.",
     "output_type": "error",
     "traceback": [
      "\u001b[0;31m---------------------------------------------------------------------------\u001b[0m",
      "\u001b[0;31mDagsterInvariantViolationError\u001b[0m            Traceback (most recent call last)",
      "\u001b[0;32m/var/folders/9p/n9mfs2mx0k7_v0yn1ns408qr0000gn/T/ipykernel_49703/1711923358.py\u001b[0m in \u001b[0;36m<module>\u001b[0;34m\u001b[0m\n\u001b[1;32m     31\u001b[0m \u001b[0;34m\u001b[0m\u001b[0m\n\u001b[1;32m     32\u001b[0m \u001b[0;34m@\u001b[0m\u001b[0mdg\u001b[0m\u001b[0;34m.\u001b[0m\u001b[0mpipeline\u001b[0m\u001b[0;34m\u001b[0m\u001b[0;34m\u001b[0m\u001b[0m\n\u001b[0;32m---> 33\u001b[0;31m \u001b[0;32mdef\u001b[0m \u001b[0mpipe_2\u001b[0m\u001b[0;34m(\u001b[0m\u001b[0;34m)\u001b[0m\u001b[0;34m:\u001b[0m\u001b[0;34m\u001b[0m\u001b[0;34m\u001b[0m\u001b[0m\n\u001b[0m\u001b[1;32m     34\u001b[0m     \u001b[0;31m# NB map(), collect() defined on... OutputDefinitions? Solids?\u001b[0m\u001b[0;34m\u001b[0m\u001b[0;34m\u001b[0m\u001b[0;34m\u001b[0m\u001b[0m\n\u001b[1;32m     35\u001b[0m     \u001b[0mtemp_is\u001b[0m \u001b[0;34m=\u001b[0m \u001b[0mfanout_1\u001b[0m\u001b[0;34m(\u001b[0m\u001b[0;34m)\u001b[0m\u001b[0;34m.\u001b[0m\u001b[0mmap\u001b[0m\u001b[0;34m(\u001b[0m\u001b[0mdo_stuff_1\u001b[0m\u001b[0;34m)\u001b[0m\u001b[0;34m\u001b[0m\u001b[0;34m\u001b[0m\u001b[0m\n",
      "\u001b[0;32m~/anaconda2/envs/FRE-dagster-dev/lib/python3.8/site-packages/dagster/core/definitions/decorators/pipeline.py\u001b[0m in \u001b[0;36mpipeline\u001b[0;34m(name, description, mode_defs, preset_defs, tags, hook_defs, input_defs, output_defs, config_schema, config_fn, solid_retry_policy, version_strategy)\u001b[0m\n\u001b[1;32m    187\u001b[0m     \u001b[0;32mif\u001b[0m \u001b[0mcallable\u001b[0m\u001b[0;34m(\u001b[0m\u001b[0mname\u001b[0m\u001b[0;34m)\u001b[0m\u001b[0;34m:\u001b[0m\u001b[0;34m\u001b[0m\u001b[0;34m\u001b[0m\u001b[0m\n\u001b[1;32m    188\u001b[0m         \u001b[0mcheck\u001b[0m\u001b[0;34m.\u001b[0m\u001b[0minvariant\u001b[0m\u001b[0;34m(\u001b[0m\u001b[0mdescription\u001b[0m \u001b[0;32mis\u001b[0m \u001b[0;32mNone\u001b[0m\u001b[0;34m)\u001b[0m\u001b[0;34m\u001b[0m\u001b[0;34m\u001b[0m\u001b[0m\n\u001b[0;32m--> 189\u001b[0;31m         \u001b[0;32mreturn\u001b[0m \u001b[0m_Pipeline\u001b[0m\u001b[0;34m(\u001b[0m\u001b[0;34m)\u001b[0m\u001b[0;34m(\u001b[0m\u001b[0mname\u001b[0m\u001b[0;34m)\u001b[0m\u001b[0;34m\u001b[0m\u001b[0;34m\u001b[0m\u001b[0m\n\u001b[0m\u001b[1;32m    190\u001b[0m \u001b[0;34m\u001b[0m\u001b[0m\n\u001b[1;32m    191\u001b[0m     return _Pipeline(\n",
      "\u001b[0;32m~/anaconda2/envs/FRE-dagster-dev/lib/python3.8/site-packages/dagster/core/definitions/decorators/pipeline.py\u001b[0m in \u001b[0;36m__call__\u001b[0;34m(self, fn)\u001b[0m\n\u001b[1;32m     67\u001b[0m             \u001b[0mconfig_mapping\u001b[0m\u001b[0;34m,\u001b[0m\u001b[0;34m\u001b[0m\u001b[0;34m\u001b[0m\u001b[0m\n\u001b[1;32m     68\u001b[0m             \u001b[0mpositional_inputs\u001b[0m\u001b[0;34m,\u001b[0m\u001b[0;34m\u001b[0m\u001b[0;34m\u001b[0m\u001b[0m\n\u001b[0;32m---> 69\u001b[0;31m         \u001b[0;34m)\u001b[0m \u001b[0;34m=\u001b[0m \u001b[0mdo_composition\u001b[0m\u001b[0;34m(\u001b[0m\u001b[0;34m\u001b[0m\u001b[0;34m\u001b[0m\u001b[0m\n\u001b[0m\u001b[1;32m     70\u001b[0m             \u001b[0;34m\"@pipeline\"\u001b[0m\u001b[0;34m,\u001b[0m\u001b[0;34m\u001b[0m\u001b[0;34m\u001b[0m\u001b[0m\n\u001b[1;32m     71\u001b[0m             \u001b[0mself\u001b[0m\u001b[0;34m.\u001b[0m\u001b[0mname\u001b[0m\u001b[0;34m,\u001b[0m\u001b[0;34m\u001b[0m\u001b[0;34m\u001b[0m\u001b[0m\n",
      "\u001b[0;32m~/anaconda2/envs/FRE-dagster-dev/lib/python3.8/site-packages/dagster/core/definitions/composition.py\u001b[0m in \u001b[0;36mdo_composition\u001b[0;34m(decorator_name, graph_name, fn, provided_input_defs, provided_output_defs, config_schema, config_fn, ignore_output_from_composition_fn)\u001b[0m\n\u001b[1;32m    837\u001b[0m     \u001b[0menter_composition\u001b[0m\u001b[0;34m(\u001b[0m\u001b[0mgraph_name\u001b[0m\u001b[0;34m,\u001b[0m \u001b[0mdecorator_name\u001b[0m\u001b[0;34m)\u001b[0m\u001b[0;34m\u001b[0m\u001b[0;34m\u001b[0m\u001b[0m\n\u001b[1;32m    838\u001b[0m     \u001b[0;32mtry\u001b[0m\u001b[0;34m:\u001b[0m\u001b[0;34m\u001b[0m\u001b[0;34m\u001b[0m\u001b[0m\n\u001b[0;32m--> 839\u001b[0;31m         \u001b[0moutput\u001b[0m \u001b[0;34m=\u001b[0m \u001b[0mfn\u001b[0m\u001b[0;34m(\u001b[0m\u001b[0;34m**\u001b[0m\u001b[0mkwargs\u001b[0m\u001b[0;34m)\u001b[0m\u001b[0;34m\u001b[0m\u001b[0;34m\u001b[0m\u001b[0m\n\u001b[0m\u001b[1;32m    840\u001b[0m         \u001b[0;32mif\u001b[0m \u001b[0mignore_output_from_composition_fn\u001b[0m\u001b[0;34m:\u001b[0m\u001b[0;34m\u001b[0m\u001b[0;34m\u001b[0m\u001b[0m\n\u001b[1;32m    841\u001b[0m             \u001b[0;32mif\u001b[0m \u001b[0moutput\u001b[0m \u001b[0;32mis\u001b[0m \u001b[0;32mnot\u001b[0m \u001b[0;32mNone\u001b[0m\u001b[0;34m:\u001b[0m\u001b[0;34m\u001b[0m\u001b[0;34m\u001b[0m\u001b[0m\n",
      "\u001b[0;32m/var/folders/9p/n9mfs2mx0k7_v0yn1ns408qr0000gn/T/ipykernel_49703/1711923358.py\u001b[0m in \u001b[0;36mpipe_2\u001b[0;34m()\u001b[0m\n\u001b[1;32m     34\u001b[0m     \u001b[0;31m# NB map(), collect() defined on... OutputDefinitions? Solids?\u001b[0m\u001b[0;34m\u001b[0m\u001b[0;34m\u001b[0m\u001b[0;34m\u001b[0m\u001b[0m\n\u001b[1;32m     35\u001b[0m     \u001b[0mtemp_is\u001b[0m \u001b[0;34m=\u001b[0m \u001b[0mfanout_1\u001b[0m\u001b[0;34m(\u001b[0m\u001b[0;34m)\u001b[0m\u001b[0;34m.\u001b[0m\u001b[0mmap\u001b[0m\u001b[0;34m(\u001b[0m\u001b[0mdo_stuff_1\u001b[0m\u001b[0;34m)\u001b[0m\u001b[0;34m\u001b[0m\u001b[0;34m\u001b[0m\u001b[0m\n\u001b[0;32m---> 36\u001b[0;31m     \u001b[0;32mfor\u001b[0m \u001b[0mi\u001b[0m \u001b[0;32min\u001b[0m \u001b[0mtemp_is\u001b[0m\u001b[0;34m:\u001b[0m\u001b[0;34m\u001b[0m\u001b[0;34m\u001b[0m\u001b[0m\n\u001b[0m\u001b[1;32m     37\u001b[0m         \u001b[0mtemp_sum\u001b[0m \u001b[0;34m=\u001b[0m \u001b[0mfanout_2\u001b[0m\u001b[0;34m(\u001b[0m\u001b[0mi\u001b[0m\u001b[0;34m)\u001b[0m\u001b[0;34m.\u001b[0m\u001b[0mmap\u001b[0m\u001b[0;34m(\u001b[0m\u001b[0mdo_stuff_2\u001b[0m\u001b[0;34m)\u001b[0m\u001b[0;34m\u001b[0m\u001b[0;34m\u001b[0m\u001b[0m\n\u001b[1;32m     38\u001b[0m     \u001b[0mfan_in\u001b[0m\u001b[0;34m(\u001b[0m\u001b[0mtemp_sum\u001b[0m\u001b[0;34m.\u001b[0m\u001b[0mcollect\u001b[0m\u001b[0;34m(\u001b[0m\u001b[0;34m)\u001b[0m\u001b[0;34m)\u001b[0m\u001b[0;34m\u001b[0m\u001b[0;34m\u001b[0m\u001b[0m\n",
      "\u001b[0;32m~/anaconda2/envs/FRE-dagster-dev/lib/python3.8/site-packages/dagster/core/definitions/composition.py\u001b[0m in \u001b[0;36m__iter__\u001b[0;34m(self)\u001b[0m\n\u001b[1;32m    625\u001b[0m \u001b[0;34m\u001b[0m\u001b[0m\n\u001b[1;32m    626\u001b[0m     \u001b[0;32mdef\u001b[0m \u001b[0m__iter__\u001b[0m\u001b[0;34m(\u001b[0m\u001b[0mself\u001b[0m\u001b[0;34m)\u001b[0m\u001b[0;34m:\u001b[0m\u001b[0;34m\u001b[0m\u001b[0;34m\u001b[0m\u001b[0m\n\u001b[0;32m--> 627\u001b[0;31m         raise DagsterInvariantViolationError(\n\u001b[0m\u001b[1;32m    628\u001b[0m             \u001b[0;34m'Attempted to iterate over an {cls}. This object represents the dynamic output \"{out}\" '\u001b[0m\u001b[0;34m\u001b[0m\u001b[0;34m\u001b[0m\u001b[0m\n\u001b[1;32m    629\u001b[0m             \u001b[0;34m'from the solid \"{solid}\". Use the \"map\" method on this object to create '\u001b[0m\u001b[0;34m\u001b[0m\u001b[0;34m\u001b[0m\u001b[0m\n",
      "\u001b[0;31mDagsterInvariantViolationError\u001b[0m: Attempted to iterate over an InvokedSolidDynamicOutputWrapper. This object represents the dynamic output \"result\" from the solid \"do_stuff_1\". Use the \"map\" method on this object to create downstream dependencies that will be cloned for each DynamicOutput that is resolved at runtime."
     ]
    }
   ],
   "source": [
    "import dagster as dg\n",
    "\n",
    "@dg.solid(output_defs=[dg.DynamicOutputDefinition(int, name=\"i\")])\n",
    "def fanout_1(context):\n",
    "    for i in [0, 10]:\n",
    "        yield dg.DynamicOutput(value=i, mapping_key=f\"a{i}\")\n",
    "\n",
    "@dg.solid(input_defs=[dg.InputDefinition(\"i\", int)])\n",
    "def do_stuff_1(context, i):\n",
    "    context.log.info(f\"test: {i} {context.get_mapping_key()}\")\n",
    "    return i+1\n",
    "\n",
    "@dg.solid(\n",
    "    input_defs=[dg.InputDefinition(\"i\", int)],\n",
    "    output_defs=[dg.DynamicOutputDefinition(int, name=\"j\")]\n",
    ")\n",
    "def fanout_2(context, i):\n",
    "    for j in [5, 6]:\n",
    "        yield dg.DynamicOutput(value=i+j, mapping_key=f\"b{j}\")\n",
    "\n",
    "@dg.solid(\n",
    "    input_defs=[dg.InputDefinition(\"i\", int), dg.InputDefinition(\"j\", int)]\n",
    ")\n",
    "def do_stuff_2(context, i,j):\n",
    "    context.log.info(f\"test: {i} {j} {context.get_mapping_key()}\")\n",
    "    return i+j\n",
    "\n",
    "@dg.solid\n",
    "def fan_in(context, sizes):\n",
    "    return sum(sizes)\n",
    "\n",
    "@dg.pipeline\n",
    "def pipe_2():\n",
    "    # NB map(), collect() defined on... OutputDefinitions? Solids?\n",
    "    temp_is = fanout_1().map(do_stuff_1)\n",
    "    for i in temp_is:\n",
    "        temp_sum = fanout_2(i).map(do_stuff_2)\n",
    "    fan_in(temp_sum.collect())"
   ]
  },
  {
   "cell_type": "code",
   "execution_count": 3,
   "id": "55c44ba9",
   "metadata": {},
   "outputs": [],
   "source": [
    "result = dg.execute_pipeline(pipe_2)"
   ]
  },
  {
   "cell_type": "code",
   "execution_count": 4,
   "id": "12db3a55",
   "metadata": {},
   "outputs": [
    {
     "name": "stderr",
     "output_type": "stream",
     "text": [
      "2021-08-10 12:37:09 - dagster - DEBUG - pipe_1 - bf9d634a-5d06-43fc-94e2-8c55e8e8587c - 63454 - PIPELINE_START - Started execution of pipeline \"pipe_1\".\n",
      "2021-08-10 12:37:09 - dagster - DEBUG - pipe_1 - bf9d634a-5d06-43fc-94e2-8c55e8e8587c - 63454 - ENGINE_EVENT - Executing steps in process (pid: 63454)\n",
      "2021-08-10 12:37:09 - dagster - DEBUG - pipe_1 - bf9d634a-5d06-43fc-94e2-8c55e8e8587c - 63454 - ENGINE_EVENT - Starting initialization of resources [io_manager].\n",
      "2021-08-10 12:37:09 - dagster - DEBUG - pipe_1 - bf9d634a-5d06-43fc-94e2-8c55e8e8587c - 63454 - ENGINE_EVENT - Finished initialization of resources [io_manager].\n",
      "2021-08-10 12:37:09 - dagster - DEBUG - pipe_1 - bf9d634a-5d06-43fc-94e2-8c55e8e8587c - 63454 - fanout_1 - LOGS_CAPTURED - Started capturing logs for solid: fanout_1.\n",
      "2021-08-10 12:37:09 - dagster - DEBUG - pipe_1 - bf9d634a-5d06-43fc-94e2-8c55e8e8587c - 63454 - fanout_1 - STEP_START - Started execution of step \"fanout_1\".\n",
      "2021-08-10 12:37:09 - dagster - DEBUG - pipe_1 - bf9d634a-5d06-43fc-94e2-8c55e8e8587c - 63454 - fanout_1 - STEP_OUTPUT - Yielded output \"i\" mapping key \"a0\" of type \"Int\". (Type check passed).\n",
      "2021-08-10 12:37:09 - dagster - DEBUG - pipe_1 - bf9d634a-5d06-43fc-94e2-8c55e8e8587c - 63454 - fanout_1 - HANDLED_OUTPUT - Handled output \"i\" using IO manager \"io_manager\"\n",
      "2021-08-10 12:37:09 - dagster - DEBUG - pipe_1 - bf9d634a-5d06-43fc-94e2-8c55e8e8587c - 63454 - fanout_1 - STEP_OUTPUT - Yielded output \"i\" mapping key \"a10\" of type \"Int\". (Type check passed).\n",
      "2021-08-10 12:37:09 - dagster - DEBUG - pipe_1 - bf9d634a-5d06-43fc-94e2-8c55e8e8587c - 63454 - fanout_1 - HANDLED_OUTPUT - Handled output \"i\" using IO manager \"io_manager\"\n",
      "2021-08-10 12:37:09 - dagster - DEBUG - pipe_1 - bf9d634a-5d06-43fc-94e2-8c55e8e8587c - 63454 - fanout_1 - STEP_SUCCESS - Finished execution of step \"fanout_1\" in 5.32ms.\n",
      "2021-08-10 12:37:09 - dagster - DEBUG - pipe_1 - bf9d634a-5d06-43fc-94e2-8c55e8e8587c - 63454 - do_stuff_1[a0] - LOGS_CAPTURED - Started capturing logs for solid: do_stuff_1[a0].\n",
      "2021-08-10 12:37:09 - dagster - DEBUG - pipe_1 - bf9d634a-5d06-43fc-94e2-8c55e8e8587c - 63454 - do_stuff_1[a0] - STEP_START - Started execution of step \"do_stuff_1[a0]\".\n",
      "2021-08-10 12:37:09 - dagster - DEBUG - pipe_1 - bf9d634a-5d06-43fc-94e2-8c55e8e8587c - 63454 - do_stuff_1[a0] - LOADED_INPUT - Loaded input \"i\" using input manager \"io_manager\", from output \"i\" of step \"fanout_1\"\n",
      "2021-08-10 12:37:09 - dagster - DEBUG - pipe_1 - bf9d634a-5d06-43fc-94e2-8c55e8e8587c - 63454 - do_stuff_1[a0] - STEP_INPUT - Got input \"i\" of type \"Int\". (Type check passed).\n",
      "2021-08-10 12:37:09 - dagster - INFO - system - bf9d634a-5d06-43fc-94e2-8c55e8e8587c - do_stuff_1[a0] - test: 0 a0\n",
      "2021-08-10 12:37:09 - dagster - DEBUG - pipe_1 - bf9d634a-5d06-43fc-94e2-8c55e8e8587c - 63454 - do_stuff_1[a0] - STEP_OUTPUT - Yielded output \"result\" of type \"Int\". (Type check passed).\n",
      "2021-08-10 12:37:09 - dagster - DEBUG - pipe_1 - bf9d634a-5d06-43fc-94e2-8c55e8e8587c - 63454 - do_stuff_1[a0] - HANDLED_OUTPUT - Handled output \"result\" using IO manager \"io_manager\"\n",
      "2021-08-10 12:37:09 - dagster - DEBUG - pipe_1 - bf9d634a-5d06-43fc-94e2-8c55e8e8587c - 63454 - do_stuff_1[a0] - STEP_SUCCESS - Finished execution of step \"do_stuff_1[a0]\" in 2.96ms.\n",
      "2021-08-10 12:37:09 - dagster - DEBUG - pipe_1 - bf9d634a-5d06-43fc-94e2-8c55e8e8587c - 63454 - do_stuff_1[a10] - LOGS_CAPTURED - Started capturing logs for solid: do_stuff_1[a10].\n",
      "2021-08-10 12:37:09 - dagster - DEBUG - pipe_1 - bf9d634a-5d06-43fc-94e2-8c55e8e8587c - 63454 - do_stuff_1[a10] - STEP_START - Started execution of step \"do_stuff_1[a10]\".\n",
      "2021-08-10 12:37:09 - dagster - DEBUG - pipe_1 - bf9d634a-5d06-43fc-94e2-8c55e8e8587c - 63454 - do_stuff_1[a10] - LOADED_INPUT - Loaded input \"i\" using input manager \"io_manager\", from output \"i\" of step \"fanout_1\"\n",
      "2021-08-10 12:37:09 - dagster - DEBUG - pipe_1 - bf9d634a-5d06-43fc-94e2-8c55e8e8587c - 63454 - do_stuff_1[a10] - STEP_INPUT - Got input \"i\" of type \"Int\". (Type check passed).\n",
      "2021-08-10 12:37:09 - dagster - INFO - system - bf9d634a-5d06-43fc-94e2-8c55e8e8587c - do_stuff_1[a10] - test: 10 a10\n",
      "2021-08-10 12:37:09 - dagster - DEBUG - pipe_1 - bf9d634a-5d06-43fc-94e2-8c55e8e8587c - 63454 - do_stuff_1[a10] - STEP_OUTPUT - Yielded output \"result\" of type \"Int\". (Type check passed).\n",
      "2021-08-10 12:37:09 - dagster - DEBUG - pipe_1 - bf9d634a-5d06-43fc-94e2-8c55e8e8587c - 63454 - do_stuff_1[a10] - HANDLED_OUTPUT - Handled output \"result\" using IO manager \"io_manager\"\n",
      "2021-08-10 12:37:09 - dagster - DEBUG - pipe_1 - bf9d634a-5d06-43fc-94e2-8c55e8e8587c - 63454 - do_stuff_1[a10] - STEP_SUCCESS - Finished execution of step \"do_stuff_1[a10]\" in 2.41ms.\n",
      "2021-08-10 12:37:09 - dagster - DEBUG - pipe_1 - bf9d634a-5d06-43fc-94e2-8c55e8e8587c - 63454 - fan_in - LOGS_CAPTURED - Started capturing logs for solid: fan_in.\n",
      "2021-08-10 12:37:09 - dagster - DEBUG - pipe_1 - bf9d634a-5d06-43fc-94e2-8c55e8e8587c - 63454 - fan_in - STEP_START - Started execution of step \"fan_in\".\n",
      "2021-08-10 12:37:09 - dagster - DEBUG - pipe_1 - bf9d634a-5d06-43fc-94e2-8c55e8e8587c - 63454 - fan_in - LOADED_INPUT - Loaded input \"sizes\" using input manager \"io_manager\", from output \"result\" of step \"do_stuff_1[a0]\"\n",
      "2021-08-10 12:37:09 - dagster - DEBUG - pipe_1 - bf9d634a-5d06-43fc-94e2-8c55e8e8587c - 63454 - fan_in - LOADED_INPUT - Loaded input \"sizes\" using input manager \"io_manager\", from output \"result\" of step \"do_stuff_1[a10]\"\n",
      "2021-08-10 12:37:09 - dagster - DEBUG - pipe_1 - bf9d634a-5d06-43fc-94e2-8c55e8e8587c - 63454 - fan_in - STEP_INPUT - Got input \"sizes\" of type \"Any\". (Type check passed).\n",
      "2021-08-10 12:37:09 - dagster - DEBUG - pipe_1 - bf9d634a-5d06-43fc-94e2-8c55e8e8587c - 63454 - fan_in - STEP_OUTPUT - Yielded output \"result\" of type \"Any\". (Type check passed).\n",
      "2021-08-10 12:37:09 - dagster - DEBUG - pipe_1 - bf9d634a-5d06-43fc-94e2-8c55e8e8587c - 63454 - fan_in - HANDLED_OUTPUT - Handled output \"result\" using IO manager \"io_manager\"\n",
      "2021-08-10 12:37:09 - dagster - DEBUG - pipe_1 - bf9d634a-5d06-43fc-94e2-8c55e8e8587c - 63454 - fan_in - STEP_SUCCESS - Finished execution of step \"fan_in\" in 2.72ms.\n",
      "2021-08-10 12:37:09 - dagster - DEBUG - pipe_1 - bf9d634a-5d06-43fc-94e2-8c55e8e8587c - 63454 - ENGINE_EVENT - Finished steps in process (pid: 63454) in 36ms\n",
      "2021-08-10 12:37:09 - dagster - DEBUG - pipe_1 - bf9d634a-5d06-43fc-94e2-8c55e8e8587c - 63454 - PIPELINE_SUCCESS - Finished execution of pipeline \"pipe_1\".\n"
     ]
    }
   ],
   "source": []
  },
  {
   "cell_type": "code",
   "execution_count": null,
   "id": "f10cd26f",
   "metadata": {},
   "outputs": [],
   "source": [
    "import dataclasses as dc\n",
    "\n",
    "@dc.dataclass\n",
    "class DagsterIO():\n",
    "    name: str = None\n",
    "    foo: str = None\n",
    "\n",
    "@dc.dataclass\n",
    "class Bar(DagsterIO):\n",
    "    was: str = None\n",
    "\n",
    "    @property\n",
    "    def foo(self):\n",
    "        return self.name + \"_bla\"\n",
    "\n",
    "\n",
    "baz = DagsterIO(name=\"asdf\")\n",
    "bar = Bar(name=\"asdf\")\n",
    "print(bar.foo)\n"
   ]
  },
  {
   "cell_type": "markdown",
   "id": "a1b2f6a1",
   "metadata": {},
   "source": [
    "# How about solids as method calls?"
   ]
  },
  {
   "cell_type": "code",
   "execution_count": 6,
   "id": "b339ad76",
   "metadata": {},
   "outputs": [
    {
     "ename": "DagsterInvalidDefinitionError",
     "evalue": "\"context\" is not a valid name in Dagster. It conflicts with a Dagster or python reserved keyword.",
     "output_type": "error",
     "traceback": [
      "\u001b[0;31m---------------------------------------------------------------------------\u001b[0m",
      "\u001b[0;31mDagsterInvalidDefinitionError\u001b[0m             Traceback (most recent call last)",
      "\u001b[0;32m/var/folders/9p/n9mfs2mx0k7_v0yn1ns408qr0000gn/T/ipykernel_63454/2482368360.py\u001b[0m in \u001b[0;36m<module>\u001b[0;34m\u001b[0m\n\u001b[1;32m      2\u001b[0m \u001b[0;32mimport\u001b[0m \u001b[0mdagster\u001b[0m \u001b[0;32mas\u001b[0m \u001b[0mdg\u001b[0m\u001b[0;34m\u001b[0m\u001b[0;34m\u001b[0m\u001b[0m\n\u001b[1;32m      3\u001b[0m \u001b[0;34m\u001b[0m\u001b[0m\n\u001b[0;32m----> 4\u001b[0;31m \u001b[0;32mclass\u001b[0m \u001b[0mA\u001b[0m\u001b[0;34m(\u001b[0m\u001b[0;34m)\u001b[0m\u001b[0;34m:\u001b[0m\u001b[0;34m\u001b[0m\u001b[0;34m\u001b[0m\u001b[0m\n\u001b[0m\u001b[1;32m      5\u001b[0m     \u001b[0;34m@\u001b[0m\u001b[0mdg\u001b[0m\u001b[0;34m.\u001b[0m\u001b[0msolid\u001b[0m\u001b[0;34m(\u001b[0m\u001b[0moutput_defs\u001b[0m\u001b[0;34m=\u001b[0m\u001b[0;34m[\u001b[0m\u001b[0mdg\u001b[0m\u001b[0;34m.\u001b[0m\u001b[0mDynamicOutputDefinition\u001b[0m\u001b[0;34m(\u001b[0m\u001b[0mname\u001b[0m\u001b[0;34m=\u001b[0m\u001b[0;34m\"b\"\u001b[0m\u001b[0;34m)\u001b[0m\u001b[0;34m]\u001b[0m\u001b[0;34m)\u001b[0m\u001b[0;34m\u001b[0m\u001b[0;34m\u001b[0m\u001b[0m\n\u001b[1;32m      6\u001b[0m     \u001b[0;32mdef\u001b[0m \u001b[0mfanout_1\u001b[0m\u001b[0;34m(\u001b[0m\u001b[0mself\u001b[0m\u001b[0;34m,\u001b[0m \u001b[0mcontext\u001b[0m\u001b[0;34m)\u001b[0m\u001b[0;34m:\u001b[0m\u001b[0;34m\u001b[0m\u001b[0;34m\u001b[0m\u001b[0m\n",
      "\u001b[0;32m/var/folders/9p/n9mfs2mx0k7_v0yn1ns408qr0000gn/T/ipykernel_63454/2482368360.py\u001b[0m in \u001b[0;36mA\u001b[0;34m()\u001b[0m\n\u001b[1;32m      4\u001b[0m \u001b[0;32mclass\u001b[0m \u001b[0mA\u001b[0m\u001b[0;34m(\u001b[0m\u001b[0;34m)\u001b[0m\u001b[0;34m:\u001b[0m\u001b[0;34m\u001b[0m\u001b[0;34m\u001b[0m\u001b[0m\n\u001b[1;32m      5\u001b[0m     \u001b[0;34m@\u001b[0m\u001b[0mdg\u001b[0m\u001b[0;34m.\u001b[0m\u001b[0msolid\u001b[0m\u001b[0;34m(\u001b[0m\u001b[0moutput_defs\u001b[0m\u001b[0;34m=\u001b[0m\u001b[0;34m[\u001b[0m\u001b[0mdg\u001b[0m\u001b[0;34m.\u001b[0m\u001b[0mDynamicOutputDefinition\u001b[0m\u001b[0;34m(\u001b[0m\u001b[0mname\u001b[0m\u001b[0;34m=\u001b[0m\u001b[0;34m\"b\"\u001b[0m\u001b[0;34m)\u001b[0m\u001b[0;34m]\u001b[0m\u001b[0;34m)\u001b[0m\u001b[0;34m\u001b[0m\u001b[0;34m\u001b[0m\u001b[0m\n\u001b[0;32m----> 6\u001b[0;31m     \u001b[0;32mdef\u001b[0m \u001b[0mfanout_1\u001b[0m\u001b[0;34m(\u001b[0m\u001b[0mself\u001b[0m\u001b[0;34m,\u001b[0m \u001b[0mcontext\u001b[0m\u001b[0;34m)\u001b[0m\u001b[0;34m:\u001b[0m\u001b[0;34m\u001b[0m\u001b[0;34m\u001b[0m\u001b[0m\n\u001b[0m\u001b[1;32m      7\u001b[0m         \u001b[0;32mfor\u001b[0m \u001b[0mi\u001b[0m \u001b[0;32min\u001b[0m \u001b[0;34m[\u001b[0m\u001b[0;36m0\u001b[0m\u001b[0;34m,\u001b[0m \u001b[0;36m10\u001b[0m\u001b[0;34m]\u001b[0m\u001b[0;34m:\u001b[0m\u001b[0;34m\u001b[0m\u001b[0;34m\u001b[0m\u001b[0m\n\u001b[1;32m      8\u001b[0m             \u001b[0;32myield\u001b[0m \u001b[0mdg\u001b[0m\u001b[0;34m.\u001b[0m\u001b[0mDynamicOutput\u001b[0m\u001b[0;34m(\u001b[0m\u001b[0mB\u001b[0m\u001b[0;34m(\u001b[0m\u001b[0mvalue\u001b[0m\u001b[0;34m=\u001b[0m\u001b[0mi\u001b[0m\u001b[0;34m)\u001b[0m\u001b[0;34m,\u001b[0m \u001b[0mmapping_key\u001b[0m\u001b[0;34m=\u001b[0m\u001b[0;34mf\"b{i}\"\u001b[0m\u001b[0;34m,\u001b[0m \u001b[0moutput_name\u001b[0m\u001b[0;34m=\u001b[0m\u001b[0;34m\"b\"\u001b[0m\u001b[0;34m)\u001b[0m\u001b[0;34m\u001b[0m\u001b[0;34m\u001b[0m\u001b[0m\n",
      "\u001b[0;32m~/anaconda2/envs/FRE-dagster-dev/lib/python3.8/site-packages/dagster/core/definitions/decorators/solid.py\u001b[0m in \u001b[0;36m__call__\u001b[0;34m(self, fn)\u001b[0m\n\u001b[1;32m     99\u001b[0m         )\n\u001b[1;32m    100\u001b[0m \u001b[0;34m\u001b[0m\u001b[0m\n\u001b[0;32m--> 101\u001b[0;31m         resolved_input_defs = resolve_checked_solid_fn_inputs(\n\u001b[0m\u001b[1;32m    102\u001b[0m             \u001b[0mdecorator_name\u001b[0m\u001b[0;34m=\u001b[0m\u001b[0;34m\"@solid\"\u001b[0m\u001b[0;34m,\u001b[0m\u001b[0;34m\u001b[0m\u001b[0;34m\u001b[0m\u001b[0m\n\u001b[1;32m    103\u001b[0m             \u001b[0mfn_name\u001b[0m\u001b[0;34m=\u001b[0m\u001b[0mself\u001b[0m\u001b[0;34m.\u001b[0m\u001b[0mname\u001b[0m\u001b[0;34m,\u001b[0m\u001b[0;34m\u001b[0m\u001b[0;34m\u001b[0m\u001b[0m\n",
      "\u001b[0;32m~/anaconda2/envs/FRE-dagster-dev/lib/python3.8/site-packages/dagster/core/definitions/decorators/solid.py\u001b[0m in \u001b[0;36mresolve_checked_solid_fn_inputs\u001b[0;34m(decorator_name, fn_name, compute_fn, explicit_input_defs, context_required, exclude_nothing)\u001b[0m\n\u001b[1;32m    376\u001b[0m \u001b[0;34m\u001b[0m\u001b[0m\n\u001b[1;32m    377\u001b[0m     \u001b[0;31m# build defs from the inferred props for those without explicit entries\u001b[0m\u001b[0;34m\u001b[0m\u001b[0;34m\u001b[0m\u001b[0;34m\u001b[0m\u001b[0m\n\u001b[0;32m--> 378\u001b[0;31m     input_defs.extend(\n\u001b[0m\u001b[1;32m    379\u001b[0m         \u001b[0mInputDefinition\u001b[0m\u001b[0;34m.\u001b[0m\u001b[0mcreate_from_inferred\u001b[0m\u001b[0;34m(\u001b[0m\u001b[0minferred\u001b[0m\u001b[0;34m)\u001b[0m\u001b[0;34m\u001b[0m\u001b[0;34m\u001b[0m\u001b[0m\n\u001b[1;32m    380\u001b[0m         \u001b[0;32mfor\u001b[0m \u001b[0minferred\u001b[0m \u001b[0;32min\u001b[0m \u001b[0minferred_props\u001b[0m\u001b[0;34m.\u001b[0m\u001b[0mvalues\u001b[0m\u001b[0;34m(\u001b[0m\u001b[0;34m)\u001b[0m\u001b[0;34m\u001b[0m\u001b[0;34m\u001b[0m\u001b[0m\n",
      "\u001b[0;32m~/anaconda2/envs/FRE-dagster-dev/lib/python3.8/site-packages/dagster/core/definitions/decorators/solid.py\u001b[0m in \u001b[0;36m<genexpr>\u001b[0;34m(.0)\u001b[0m\n\u001b[1;32m    377\u001b[0m     \u001b[0;31m# build defs from the inferred props for those without explicit entries\u001b[0m\u001b[0;34m\u001b[0m\u001b[0;34m\u001b[0m\u001b[0;34m\u001b[0m\u001b[0m\n\u001b[1;32m    378\u001b[0m     input_defs.extend(\n\u001b[0;32m--> 379\u001b[0;31m         \u001b[0mInputDefinition\u001b[0m\u001b[0;34m.\u001b[0m\u001b[0mcreate_from_inferred\u001b[0m\u001b[0;34m(\u001b[0m\u001b[0minferred\u001b[0m\u001b[0;34m)\u001b[0m\u001b[0;34m\u001b[0m\u001b[0;34m\u001b[0m\u001b[0m\n\u001b[0m\u001b[1;32m    380\u001b[0m         \u001b[0;32mfor\u001b[0m \u001b[0minferred\u001b[0m \u001b[0;32min\u001b[0m \u001b[0minferred_props\u001b[0m\u001b[0;34m.\u001b[0m\u001b[0mvalues\u001b[0m\u001b[0;34m(\u001b[0m\u001b[0;34m)\u001b[0m\u001b[0;34m\u001b[0m\u001b[0;34m\u001b[0m\u001b[0m\n\u001b[1;32m    381\u001b[0m         \u001b[0;32mif\u001b[0m \u001b[0minferred\u001b[0m\u001b[0;34m.\u001b[0m\u001b[0mname\u001b[0m \u001b[0;32min\u001b[0m \u001b[0minputs_to_infer\u001b[0m\u001b[0;34m\u001b[0m\u001b[0;34m\u001b[0m\u001b[0m\n",
      "\u001b[0;32m~/anaconda2/envs/FRE-dagster-dev/lib/python3.8/site-packages/dagster/core/definitions/input.py\u001b[0m in \u001b[0;36mcreate_from_inferred\u001b[0;34m(inferred)\u001b[0m\n\u001b[1;32m    214\u001b[0m     \u001b[0;34m@\u001b[0m\u001b[0mstaticmethod\u001b[0m\u001b[0;34m\u001b[0m\u001b[0;34m\u001b[0m\u001b[0m\n\u001b[1;32m    215\u001b[0m     \u001b[0;32mdef\u001b[0m \u001b[0mcreate_from_inferred\u001b[0m\u001b[0;34m(\u001b[0m\u001b[0minferred\u001b[0m\u001b[0;34m:\u001b[0m \u001b[0mInferredInputProps\u001b[0m\u001b[0;34m)\u001b[0m \u001b[0;34m->\u001b[0m \u001b[0;34m\"InputDefinition\"\u001b[0m\u001b[0;34m:\u001b[0m\u001b[0;34m\u001b[0m\u001b[0;34m\u001b[0m\u001b[0m\n\u001b[0;32m--> 216\u001b[0;31m         return InputDefinition(\n\u001b[0m\u001b[1;32m    217\u001b[0m             \u001b[0mname\u001b[0m\u001b[0;34m=\u001b[0m\u001b[0minferred\u001b[0m\u001b[0;34m.\u001b[0m\u001b[0mname\u001b[0m\u001b[0;34m,\u001b[0m\u001b[0;34m\u001b[0m\u001b[0;34m\u001b[0m\u001b[0m\n\u001b[1;32m    218\u001b[0m             \u001b[0mdagster_type\u001b[0m\u001b[0;34m=\u001b[0m\u001b[0m_checked_inferred_type\u001b[0m\u001b[0;34m(\u001b[0m\u001b[0minferred\u001b[0m\u001b[0;34m)\u001b[0m\u001b[0;34m,\u001b[0m\u001b[0;34m\u001b[0m\u001b[0;34m\u001b[0m\u001b[0m\n",
      "\u001b[0;32m~/anaconda2/envs/FRE-dagster-dev/lib/python3.8/site-packages/dagster/core/definitions/input.py\u001b[0m in \u001b[0;36m__init__\u001b[0;34m(self, name, dagster_type, description, default_value, root_manager_key, metadata, asset_key, asset_partitions)\u001b[0m\n\u001b[1;32m     82\u001b[0m         \u001b[0;31m# when adding new params, make sure to update combine_with_inferred below\u001b[0m\u001b[0;34m\u001b[0m\u001b[0;34m\u001b[0m\u001b[0;34m\u001b[0m\u001b[0m\n\u001b[1;32m     83\u001b[0m     ):\n\u001b[0;32m---> 84\u001b[0;31m         \u001b[0mself\u001b[0m\u001b[0;34m.\u001b[0m\u001b[0m_name\u001b[0m \u001b[0;34m=\u001b[0m \u001b[0mcheck_valid_name\u001b[0m\u001b[0;34m(\u001b[0m\u001b[0mname\u001b[0m\u001b[0;34m)\u001b[0m \u001b[0;32mif\u001b[0m \u001b[0mname\u001b[0m \u001b[0;32melse\u001b[0m \u001b[0;32mNone\u001b[0m\u001b[0;34m\u001b[0m\u001b[0;34m\u001b[0m\u001b[0m\n\u001b[0m\u001b[1;32m     85\u001b[0m \u001b[0;34m\u001b[0m\u001b[0m\n\u001b[1;32m     86\u001b[0m         \u001b[0mself\u001b[0m\u001b[0;34m.\u001b[0m\u001b[0m_type_not_set\u001b[0m \u001b[0;34m=\u001b[0m \u001b[0mdagster_type\u001b[0m \u001b[0;32mis\u001b[0m \u001b[0;32mNone\u001b[0m\u001b[0;34m\u001b[0m\u001b[0;34m\u001b[0m\u001b[0m\n",
      "\u001b[0;32m~/anaconda2/envs/FRE-dagster-dev/lib/python3.8/site-packages/dagster/core/definitions/utils.py\u001b[0m in \u001b[0;36mcheck_valid_name\u001b[0;34m(name)\u001b[0m\n\u001b[1;32m     49\u001b[0m     \u001b[0mcheck\u001b[0m\u001b[0;34m.\u001b[0m\u001b[0mstr_param\u001b[0m\u001b[0;34m(\u001b[0m\u001b[0mname\u001b[0m\u001b[0;34m,\u001b[0m \u001b[0;34m\"name\"\u001b[0m\u001b[0;34m)\u001b[0m\u001b[0;34m\u001b[0m\u001b[0;34m\u001b[0m\u001b[0m\n\u001b[1;32m     50\u001b[0m     \u001b[0;32mif\u001b[0m \u001b[0mname\u001b[0m \u001b[0;32min\u001b[0m \u001b[0mDISALLOWED_NAMES\u001b[0m\u001b[0;34m:\u001b[0m\u001b[0;34m\u001b[0m\u001b[0;34m\u001b[0m\u001b[0m\n\u001b[0;32m---> 51\u001b[0;31m         raise DagsterInvalidDefinitionError(\n\u001b[0m\u001b[1;32m     52\u001b[0m             \u001b[0;34mf'\"{name}\" is not a valid name in Dagster. It conflicts with a Dagster or python reserved keyword.'\u001b[0m\u001b[0;34m\u001b[0m\u001b[0;34m\u001b[0m\u001b[0m\n\u001b[1;32m     53\u001b[0m         )\n",
      "\u001b[0;31mDagsterInvalidDefinitionError\u001b[0m: \"context\" is not a valid name in Dagster. It conflicts with a Dagster or python reserved keyword."
     ]
    }
   ],
   "source": [
    "import dataclasses as dc\n",
    "import dagster as dg\n",
    "\n",
    "class A():\n",
    "    @dg.solid(output_defs=[dg.DynamicOutputDefinition(name=\"b\")])\n",
    "    def fanout_1(self, context):\n",
    "        for i in [0, 10]:\n",
    "            yield dg.DynamicOutput(B(value=i), mapping_key=f\"b{i}\", output_name=\"b\")\n",
    "\n",
    "    @dg.solid\n",
    "    def fan_in(self, context, sizes):\n",
    "        return sum(sizes)\n",
    "\n",
    "@dc.dataclass\n",
    "class B():\n",
    "    value: int\n",
    "\n",
    "    @dg.solid\n",
    "    def do_stuff_1(self, context):\n",
    "        context.log.info(f\"test: {self.value} {context.get_mapping_key()}\")\n",
    "        return self.value+1\n",
    "\n",
    "@dg.solid(\n",
    "    input_defs=[dg.InputDefinition(name=\"b\")],\n",
    "    output_defs=[dg.OutputDefinition(name=\"result\", dagster_type=int)]\n",
    ")\n",
    "def method_wrap(context, b):\n",
    "    return b.do_stuff_1(context)\n",
    "\n",
    "@dg.pipeline\n",
    "def pipe_1():\n",
    "    a = A()\n",
    "    temp1 = a.fanout_1().map(method_wrap)\n",
    "    a.fan_in(temp1.collect())"
   ]
  },
  {
   "cell_type": "markdown",
   "id": "4ad84008",
   "metadata": {},
   "source": [
    "# debug subprocess"
   ]
  },
  {
   "cell_type": "code",
   "execution_count": 96,
   "id": "d8e7d980",
   "metadata": {},
   "outputs": [],
   "source": [
    "import os\n",
    "import collections\n",
    "import copy\n",
    "import errno\n",
    "import json\n",
    "import signal\n",
    "import subprocess\n",
    "import textwrap\n",
    "\n",
    "class CompletedProcess(subprocess.CompletedProcess):\n",
    "    def __init__(self, *args, env_in=None, env_out=None, **kwargs):\n",
    "        self.env_in = env_in\n",
    "        self.env_out = env_out\n",
    "        super(CompletedProcess, self).__init__(*args, **kwargs)\n",
    "\n",
    "    @classmethod\n",
    "    def from_subprocess_result(cls, completed_process, **kwargs):\n",
    "        env_in = kwargs.get('env_in', None)\n",
    "        env_out = kwargs.get('env_out', None)\n",
    "        return cls(\n",
    "            args=completed_process.args,\n",
    "            returncode=completed_process.returncode,\n",
    "            stdout=completed_process.stdout,\n",
    "            stderr=completed_process.stderr,\n",
    "            env_in=env_in, env_out=env_out\n",
    "        )\n",
    "\n",
    "# def _preexec_fn():\n",
    "#     \"\"\"setsid() is duplicated by start_new_session=True in constuctor, but other\n",
    "#     signal restoration taken from dagster_shell.\n",
    "#     \"\"\"\n",
    "#     # Restore default signal disposition and invoke setsid\n",
    "#     for sig in (\"SIGPIPE\", \"SIGXFZ\", \"SIGXFSZ\"):\n",
    "#         if hasattr(signal, sig):\n",
    "#             signal.signal(getattr(signal, sig), signal.SIG_DFL)\n",
    "#     os.setsid()\n",
    "\n",
    "SHELL = '/bin/csh'\n",
    "SHELL_FLAGS = [SHELL, '-f'] # no -c\n",
    "\n",
    "_popen_kwargs = {\n",
    "    'encoding':'utf-8', \n",
    "    'executable': SHELL, \n",
    "    'restore_signals': True,\n",
    "    'start_new_session': True\n",
    "}\n",
    "\n",
    "def subproc_handler(func, cmd_or_args, log, log_name=None, **kwargs):\n",
    "    retcode = 1\n",
    "    try:\n",
    "        log.info(f\"Running command '{log_name}'.\")\n",
    "        return func(cmd_or_args, **kwargs)\n",
    "    except subprocess.TimeoutExpired:\n",
    "        log.error(f\"Command '{log_name}' timed out (> {kwargs['timeout']} sec).\")\n",
    "        retcode = errno.ETIME\n",
    "    except subprocess.CalledProcessError:\n",
    "        log.error(f\"Command '{log_name}' raised CalledProcessError.\")\n",
    "    except FileNotFoundError:\n",
    "        log.error(f\"Command '{log_name}' raised CalledProcessError.\")\n",
    "\n",
    "    env_in = kwargs.get('env', None)\n",
    "    return CompletedProcess(\n",
    "        args=cmd_or_args,\n",
    "        returncode=retcode, stdout=\"\", stderr=\"\", env_in=env_in, env_out=env_in\n",
    "    )\n",
    "\n",
    "def _run_command(args_list, **kwargs):\n",
    "    kwargs.update({'capture_output': True})\n",
    "    kwargs.update(_popen_kwargs)\n",
    "    env_in = kwargs.get('env', None)\n",
    "    result = subprocess.run(args_list, **kwargs)\n",
    "    return CompletedProcess.from_subprocess_result(\n",
    "        result, env_in=env_in, env_out=env_in\n",
    "    )\n",
    "\n",
    "def run_command(args_list, *args, **kwargs):\n",
    "    if 'log_name' not in kwargs:\n",
    "        kwargs['log_name'] = args_list[0]\n",
    "    if kwargs.get('update_env', False):\n",
    "        raise ValueError('Need run_shell instead')\n",
    "    return subproc_handler(_run_command, args_list, *args, **kwargs)\n",
    "\n",
    "def _run_shell(commands, timeout=None, update_env=False, **kwargs):\n",
    "    def _exception_handler(proc):\n",
    "        # kill subprocess and any subsubprocesses it may have spawned\n",
    "        # https://stackoverflow.com/a/36955420\n",
    "        os.killpg(proc.pid, signal.SIGINT)\n",
    "        proc.wait()\n",
    "        # return proc.returncode\n",
    "\n",
    "    assert isinstance(commands, str)\n",
    "    kwargs.update({'shell': False})\n",
    "    kwargs.update(_popen_kwargs)\n",
    "    commands = textwrap.dedent(commands)\n",
    "    if update_env:\n",
    "        commands_in = commands + '\\necho \"\\v\";' \\\n",
    "            + '/usr/bin/env python -c \"import os, json; print(json.dumps(dict(os.environ)))\"'\n",
    "    else:\n",
    "        commands_in = commands\n",
    "\n",
    "    with subprocess.Popen(\n",
    "        SHELL_FLAGS,\n",
    "        stdin=subprocess.PIPE, stdout=subprocess.PIPE, stderr=subprocess.PIPE,\n",
    "        **kwargs\n",
    "    ) as proc:\n",
    "        try: \n",
    "            (stdout, stderr) = proc.communicate(\n",
    "                input=commands_in, timeout=timeout # encode?\n",
    "            )\n",
    "            retcode = proc.returncode\n",
    "            # stdout = stdout.decode('utf-8', 'backslashreplace')\n",
    "            # stderr = stderr.decode('utf-8', 'backslashreplace')\n",
    "            if update_env:\n",
    "                stdout, env_out = stdout.split('\\v')\n",
    "                env_out = json.loads(env_out)\n",
    "            else:\n",
    "                env_out = kwargs.get('env', None)\n",
    "        except (subprocess.TimeoutExpired, subprocess.CalledProcessError, KeyboardInterrupt):\n",
    "            _exception_handler(proc)\n",
    "            raise\n",
    "\n",
    "    return CompletedProcess(\n",
    "        args=SHELL_FLAGS + [commands],\n",
    "        returncode=retcode, stdout=stdout, stderr=stderr,\n",
    "        env_in=kwargs.get('env', None), env_out=env_out\n",
    "    )\n",
    "\n",
    "def run_shell(commands, *args, **kwargs):\n",
    "    if 'log_name' not in kwargs:\n",
    "        if '\\n' not in commands:\n",
    "            kwargs['log_name'] = commands\n",
    "        else:\n",
    "            kwargs['log_name'] = '<multiple shell commands>'\n",
    "    if not kwargs.get('shell', True):\n",
    "        raise ValueError('Need run_command instead')\n",
    "    return subproc_handler(_run_shell, commands, *args, **kwargs)\n",
    "\n",
    "import logging\n",
    "import sys\n",
    "logging.basicConfig(stream=sys.stdout, level=logging.INFO)\n",
    "logger = logging.getLogger('LOGGER_NAME')"
   ]
  },
  {
   "cell_type": "code",
   "execution_count": 92,
   "id": "27c026ca",
   "metadata": {},
   "outputs": [
    {
     "name": "stdout",
     "output_type": "stream",
     "text": [
      "dagster_tutorial.ipynb\n",
      "mdtf_demo.ipynb\n",
      "src\n",
      "conda_env_dev.yml\n",
      "__pycache__\n",
      "test.py\n",
      "README.md\n",
      "LICENSE.txt\n",
      "FRE\n",
      "\n",
      "\n"
     ]
    }
   ],
   "source": [
    "with subprocess.Popen(\n",
    "    ['/bin/csh', '-f'],\n",
    "    stdin=subprocess.PIPE, stdout=subprocess.PIPE, stderr=subprocess.PIPE,\n",
    "    encoding='utf-8'\n",
    ") as proc:\n",
    "    (stdout, stderr) = proc.communicate(input='ls -t')\n",
    "    print(stdout)\n",
    "    print(stderr)"
   ]
  },
  {
   "cell_type": "code",
   "execution_count": 93,
   "id": "4218ddf3",
   "metadata": {},
   "outputs": [
    {
     "name": "stdout",
     "output_type": "stream",
     "text": [
      "INFO:LOGGER_NAME:Running command 'ls'.\n",
      "CompletedProcess(args=['ls', '-t'], returncode=0, stdout='', stderr='')\n",
      "INFO:LOGGER_NAME:Running command 'ls'.\n",
      "CompletedProcess(args=['ls', '-t'], returncode=0, stdout='FRE\\nLICENSE.txt\\nREADME.md\\n__pycache__\\nconda_env_dev.yml\\ndagster_tutorial.ipynb\\nmdtf_demo.ipynb\\nsrc\\ntest.py\\n', stderr='')\n",
      "INFO:LOGGER_NAME:Running command 'ls -t'.\n",
      "CompletedProcess(args=['ls -t'], returncode=0, stdout='dagster_tutorial.ipynb\\nmdtf_demo.ipynb\\nsrc\\nconda_env_dev.yml\\n__pycache__\\ntest.py\\nREADME.md\\nLICENSE.txt\\nFRE\\n', stderr='')\n",
      "INFO:LOGGER_NAME:Running command 'ls -t'.\n",
      "CompletedProcess(args=['/bin/csh', '-f', 'ls -t'], returncode=0, stdout='dagster_tutorial.ipynb\\nmdtf_demo.ipynb\\nsrc\\nconda_env_dev.yml\\n__pycache__\\ntest.py\\nREADME.md\\nLICENSE.txt\\nFRE\\n', stderr='')\n"
     ]
    }
   ],
   "source": [
    "print(run_command(['ls', '-t'], logger, shell=False))\n",
    "print(run_command(['ls', '-t'], logger, shell=True))\n",
    "# print(run_command(['ls -t'], logger, shell=False))\n",
    "print(run_command(['ls -t'], logger, shell=True))\n",
    "print(run_shell('ls -t', logger, log_name='ls -t'))"
   ]
  },
  {
   "cell_type": "code",
   "execution_count": 95,
   "id": "c672df0a",
   "metadata": {},
   "outputs": [
    {
     "name": "stdout",
     "output_type": "stream",
     "text": [
      "INFO:LOGGER_NAME:Running command 'echo \"foo: ${FOO}\"'.\n",
      "CompletedProcess(args=['/bin/csh', '-f', 'echo \"foo: ${FOO}\"'], returncode=0, stdout='foo: BAR\\n', stderr='')\n",
      "INFO:LOGGER_NAME:Running command '<multiple shell commands>'.\n",
      "CompletedProcess(args=['/bin/csh', '-f', '\\necho \"foo: ${FOO}\"\\nsetenv FOO \"BAZ\"\\necho \"foo2: ${FOO}\"\\n'], returncode=0, stdout='foo: BAR\\nfoo2: BAZ\\n', stderr='')\n",
      "['__class__', '__delattr__', '__dict__', '__dir__', '__doc__', '__eq__', '__format__', '__ge__', '__getattribute__', '__gt__', '__hash__', '__init__', '__init_subclass__', '__le__', '__lt__', '__module__', '__ne__', '__new__', '__reduce__', '__reduce_ex__', '__repr__', '__setattr__', '__sizeof__', '__str__', '__subclasshook__', '__weakref__', 'args', 'check_returncode', 'env_in', 'env_out', 'from_subprocess_result', 'returncode', 'stderr', 'stdout']\n",
      "BAR\n",
      "BAZ\n"
     ]
    }
   ],
   "source": [
    "print(run_shell('echo \"foo: ${FOO}\"', logger, env={'FOO':'BAR'}))\n",
    "result_obj = run_shell('''\n",
    "    echo \"foo: ${FOO}\"\n",
    "    setenv FOO \"BAZ\"\n",
    "    echo \"foo2: ${FOO}\"\n",
    "''', logger, env={'FOO':'BAR'}, update_env=True)\n",
    "print(result_obj)\n",
    "print(result_obj.env_in.get('FOO', 'ERROR'))\n",
    "print(result_obj.env_out.get('FOO', 'ERROR'))"
   ]
  },
  {
   "cell_type": "code",
   "execution_count": 28,
   "id": "539b4270",
   "metadata": {},
   "outputs": [
    {
     "name": "stdout",
     "output_type": "stream",
     "text": [
      "[<Parameter \"a\">, <Parameter \"b\">]\n",
      "(*args)\n",
      "(a, b, /)\n"
     ]
    },
    {
     "ename": "NameError",
     "evalue": "name 'a' is not defined",
     "output_type": "error",
     "traceback": [
      "\u001b[0;31m---------------------------------------------------------------------------\u001b[0m",
      "\u001b[0;31mNameError\u001b[0m                                 Traceback (most recent call last)",
      "\u001b[0;32m/var/folders/9p/n9mfs2mx0k7_v0yn1ns408qr0000gn/T/ipykernel_27684/3940911255.py\u001b[0m in \u001b[0;36m<module>\u001b[0;34m\u001b[0m\n\u001b[1;32m     17\u001b[0m \u001b[0;34m\u001b[0m\u001b[0m\n\u001b[1;32m     18\u001b[0m \u001b[0mprint\u001b[0m\u001b[0;34m(\u001b[0m\u001b[0minspect\u001b[0m\u001b[0;34m.\u001b[0m\u001b[0msignature\u001b[0m\u001b[0;34m(\u001b[0m\u001b[0mf\u001b[0m\u001b[0;34m)\u001b[0m\u001b[0;34m)\u001b[0m\u001b[0;34m\u001b[0m\u001b[0;34m\u001b[0m\u001b[0m\n\u001b[0;32m---> 19\u001b[0;31m \u001b[0mf\u001b[0m\u001b[0;34m(\u001b[0m\u001b[0;36m1\u001b[0m\u001b[0;34m,\u001b[0m\u001b[0;36m2\u001b[0m\u001b[0;34m)\u001b[0m\u001b[0;34m\u001b[0m\u001b[0;34m\u001b[0m\u001b[0m\n\u001b[0m\u001b[1;32m     20\u001b[0m \u001b[0;34m\u001b[0m\u001b[0m\n",
      "\u001b[0;32m/var/folders/9p/n9mfs2mx0k7_v0yn1ns408qr0000gn/T/ipykernel_27684/3940911255.py\u001b[0m in \u001b[0;36mf\u001b[0;34m(*args)\u001b[0m\n\u001b[1;32m      1\u001b[0m \u001b[0;32mdef\u001b[0m \u001b[0mf\u001b[0m\u001b[0;34m(\u001b[0m\u001b[0;34m*\u001b[0m\u001b[0margs\u001b[0m\u001b[0;34m)\u001b[0m\u001b[0;34m:\u001b[0m\u001b[0;34m\u001b[0m\u001b[0;34m\u001b[0m\u001b[0m\n\u001b[0;32m----> 2\u001b[0;31m     \u001b[0mprint\u001b[0m\u001b[0;34m(\u001b[0m\u001b[0ma\u001b[0m\u001b[0;34m,\u001b[0m\u001b[0mb\u001b[0m\u001b[0;34m)\u001b[0m\u001b[0;34m\u001b[0m\u001b[0;34m\u001b[0m\u001b[0m\n\u001b[0m\u001b[1;32m      3\u001b[0m \u001b[0;34m\u001b[0m\u001b[0m\n\u001b[1;32m      4\u001b[0m \u001b[0;32mdef\u001b[0m \u001b[0mwrapper\u001b[0m\u001b[0;34m(\u001b[0m\u001b[0;34m*\u001b[0m\u001b[0margs\u001b[0m\u001b[0;34m,\u001b[0m \u001b[0;34m**\u001b[0m\u001b[0mkwargs\u001b[0m\u001b[0;34m)\u001b[0m\u001b[0;34m:\u001b[0m\u001b[0;34m\u001b[0m\u001b[0;34m\u001b[0m\u001b[0m\n\u001b[1;32m      5\u001b[0m     \u001b[0;32mreturn\u001b[0m \u001b[0mf\u001b[0m\u001b[0;34m(\u001b[0m\u001b[0;34m*\u001b[0m\u001b[0margs\u001b[0m\u001b[0;34m,\u001b[0m \u001b[0;34m**\u001b[0m\u001b[0mkwargs\u001b[0m\u001b[0;34m)\u001b[0m\u001b[0;34m\u001b[0m\u001b[0;34m\u001b[0m\u001b[0m\n",
      "\u001b[0;31mNameError\u001b[0m: name 'a' is not defined"
     ]
    }
   ],
   "source": [
    "def f(*args):\n",
    "    print(a,b)\n",
    "\n",
    "def wrapper(*args, **kwargs):\n",
    "    return f(*args, **kwargs)\n",
    "\n",
    "new_params = \\\n",
    "    [inspect.Parameter(name=x, kind=inspect.Parameter.POSITIONAL_ONLY) \\\n",
    "        for x in ['a', 'b']]\n",
    "\n",
    "print(new_params)\n",
    "\n",
    "sig = inspect.signature(f)\n",
    "\n",
    "print(sig)\n",
    "f.__signature__ = sig.replace(parameters=new_params)\n",
    "\n",
    "print(inspect.signature(f))\n",
    "f(1,2)\n",
    "\n"
   ]
  },
  {
   "cell_type": "code",
   "execution_count": 21,
   "id": "ad7a9082",
   "metadata": {},
   "outputs": [],
   "source": [
    "import inspect, functools\n",
    "\n",
    "def add_pos_args(*new_pos_arg_names):\n",
    "    \"\"\"Programmatically set function signature; https://stackoverflow.com/a/33112180\n",
    "    \"\"\"\n",
    "    def decorator(f):\n",
    "        # @functools.wraps(f)\n",
    "        def wrapper(*args, **kwargs):\n",
    "            return f(*args, **kwargs)\n",
    "\n",
    "        # Override signature\n",
    "        new_params = \\\n",
    "            [inspect.Parameter(name=x, kind=inspect.Parameter.POSITIONAL_ONLY) \\\n",
    "                for x in new_pos_arg_names]\n",
    "        sig = inspect.signature(f)\n",
    "        sig = sig.replace(parameters=new_params)\n",
    "        wrapper.__signature__ = sig\n",
    "\n",
    "        return wrapper\n",
    "    return decorator\n",
    "\n",
    "@add_pos_args(\"a\", \"b\")\n",
    "def f():\n",
    "    print(a,b)"
   ]
  },
  {
   "cell_type": "code",
   "execution_count": 8,
   "id": "bf63f622",
   "metadata": {},
   "outputs": [
    {
     "ename": "TypeError",
     "evalue": "f() takes 0 positional arguments but 4 were given",
     "output_type": "error",
     "traceback": [
      "\u001b[0;31m---------------------------------------------------------------------------\u001b[0m",
      "\u001b[0;31mTypeError\u001b[0m                                 Traceback (most recent call last)",
      "\u001b[0;32m/var/folders/9p/n9mfs2mx0k7_v0yn1ns408qr0000gn/T/ipykernel_27684/2684819957.py\u001b[0m in \u001b[0;36m<module>\u001b[0;34m\u001b[0m\n\u001b[0;32m----> 1\u001b[0;31m \u001b[0mf\u001b[0m\u001b[0;34m(\u001b[0m\u001b[0;36m1\u001b[0m\u001b[0;34m,\u001b[0m\u001b[0;36m2\u001b[0m\u001b[0;34m)\u001b[0m\u001b[0;34m\u001b[0m\u001b[0;34m\u001b[0m\u001b[0m\n\u001b[0m",
      "\u001b[0;32m/var/folders/9p/n9mfs2mx0k7_v0yn1ns408qr0000gn/T/ipykernel_27684/214250768.py\u001b[0m in \u001b[0;36mwrapper\u001b[0;34m(*args, **kwargs)\u001b[0m\n\u001b[1;32m      8\u001b[0m         \u001b[0;32mdef\u001b[0m \u001b[0mwrapper\u001b[0m\u001b[0;34m(\u001b[0m\u001b[0;34m*\u001b[0m\u001b[0margs\u001b[0m\u001b[0;34m,\u001b[0m \u001b[0;34m**\u001b[0m\u001b[0mkwargs\u001b[0m\u001b[0;34m)\u001b[0m\u001b[0;34m:\u001b[0m\u001b[0;34m\u001b[0m\u001b[0;34m\u001b[0m\u001b[0m\n\u001b[1;32m      9\u001b[0m             \u001b[0mfull_args\u001b[0m \u001b[0;34m=\u001b[0m \u001b[0mshared_args\u001b[0m \u001b[0;34m+\u001b[0m \u001b[0margs\u001b[0m\u001b[0;34m\u001b[0m\u001b[0;34m\u001b[0m\u001b[0m\n\u001b[0;32m---> 10\u001b[0;31m             \u001b[0;32mreturn\u001b[0m \u001b[0mf\u001b[0m\u001b[0;34m(\u001b[0m\u001b[0;34m*\u001b[0m\u001b[0mfull_args\u001b[0m\u001b[0;34m,\u001b[0m \u001b[0;34m**\u001b[0m\u001b[0mkwargs\u001b[0m\u001b[0;34m)\u001b[0m\u001b[0;34m\u001b[0m\u001b[0;34m\u001b[0m\u001b[0m\n\u001b[0m\u001b[1;32m     11\u001b[0m \u001b[0;34m\u001b[0m\u001b[0m\n\u001b[1;32m     12\u001b[0m         \u001b[0;31m# Override signature\u001b[0m\u001b[0;34m\u001b[0m\u001b[0;34m\u001b[0m\u001b[0;34m\u001b[0m\u001b[0m\n",
      "\u001b[0;31mTypeError\u001b[0m: f() takes 0 positional arguments but 4 were given"
     ]
    }
   ],
   "source": [
    "f(1,2)"
   ]
  },
  {
   "cell_type": "code",
   "execution_count": 13,
   "id": "19ad0ab3",
   "metadata": {},
   "outputs": [
    {
     "data": {
      "text/plain": [
       "mappingproxy({'a': <Parameter \"a\">,\n",
       "              'b': <Parameter \"b\">,\n",
       "              'c': <Parameter \"c=3\">})"
      ]
     },
     "execution_count": 13,
     "metadata": {},
     "output_type": "execute_result"
    }
   ],
   "source": [
    "def f(a, b, c=3):\n",
    "    pass\n",
    "sig = inspect.signature(f)\n",
    "sig.parameters"
   ]
  },
  {
   "cell_type": "code",
   "execution_count": 31,
   "id": "dfa272a6",
   "metadata": {},
   "outputs": [
    {
     "data": {
      "text/plain": [
       "'Hey 3 == 5'"
      ]
     },
     "execution_count": 31,
     "metadata": {},
     "output_type": "execute_result"
    }
   ],
   "source": [
    "\n",
    "import dataclasses as dc\n",
    "\n",
    "@dc.dataclass\n",
    "class A():\n",
    "    a:str\n",
    "\n",
    "@dc.dataclass\n",
    "class B():\n",
    "    a:str\n",
    "\n",
    "foo_str = \"Hey {foo.a} == {bar.a}\"\n",
    "foo_str.format(foo=A(a=3), bar=B(a=5))"
   ]
  },
  {
   "cell_type": "code",
   "execution_count": null,
   "id": "dc66e1a2",
   "metadata": {},
   "outputs": [],
   "source": []
  }
 ],
 "metadata": {
  "interpreter": {
   "hash": "476077d5730e527e651bff15bc20dd0aaa19eec70e0df4f841d998b5b558c453"
  },
  "kernelspec": {
   "display_name": "FRE-dagster-dev",
   "language": "python",
   "name": "fre-dagster-dev"
  },
  "language_info": {
   "codemirror_mode": {
    "name": "ipython",
    "version": 3
   },
   "file_extension": ".py",
   "mimetype": "text/x-python",
   "name": "python",
   "nbconvert_exporter": "python",
   "pygments_lexer": "ipython3",
   "version": "3.8.10"
  }
 },
 "nbformat": 4,
 "nbformat_minor": 5
}
